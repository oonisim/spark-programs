{
 "cells": [
  {
   "cell_type": "markdown",
   "id": "a609ffd2",
   "metadata": {},
   "source": [
    "# NY Times Best Sellers\n",
    "\n",
    "* [New York Times Best Sellers n- Hardcover Fiction Best Sellers from 2008 to 2018](https://www.kaggle.com/cmenca/new-york-times-hardcover-fiction-best-sellers)\n",
    "\n",
    "* [PySpark and SparkSQL Basics](https://towardsdatascience.com/pyspark-and-sparksql-basics-6cb4bf967e53)"
   ]
  },
  {
   "cell_type": "code",
   "execution_count": 1,
   "id": "37098727",
   "metadata": {},
   "outputs": [
    {
     "data": {
      "text/html": [
       "<style>\n",
       "table {float:left}\n",
       "</style>\n"
      ],
      "text/plain": [
       "<IPython.core.display.HTML object>"
      ]
     },
     "metadata": {},
     "output_type": "display_data"
    }
   ],
   "source": [
    "%%html\n",
    "<style>\n",
    "table {float:left}\n",
    "</style>"
   ]
  },
  {
   "cell_type": "code",
   "execution_count": 2,
   "id": "13fc02f8",
   "metadata": {},
   "outputs": [
    {
     "data": {
      "text/html": [
       "<style>\n",
       "div.output_area pre {\n",
       "    white-space: pre;\n",
       "}\n",
       "</style>\n"
      ],
      "text/plain": [
       "<IPython.core.display.HTML object>"
      ]
     },
     "metadata": {},
     "output_type": "display_data"
    }
   ],
   "source": [
    "%%html\n",
    "<style>\n",
    "div.output_area pre {\n",
    "    white-space: pre;\n",
    "}\n",
    "</style>"
   ]
  },
  {
   "cell_type": "code",
   "execution_count": 3,
   "id": "e765d5f9",
   "metadata": {},
   "outputs": [],
   "source": [
    "import os\n",
    "import sys\n",
    "import gc\n",
    "from datetime import (\n",
    "    datetime,\n",
    "    date\n",
    ")\n",
    "import numpy as np\n",
    "import pandas as pd"
   ]
  },
  {
   "cell_type": "markdown",
   "id": "6bfc892c",
   "metadata": {},
   "source": [
    "#  Environemnt Variables\n",
    "\n",
    "## Hadoop"
   ]
  },
  {
   "cell_type": "code",
   "execution_count": 4,
   "id": "a0ee72b5",
   "metadata": {},
   "outputs": [],
   "source": [
    "os.environ['HADOOP_CONF_DIR'] = \"/opt/hadoop/hadoop-3.2.2/etc/hadoop\""
   ]
  },
  {
   "cell_type": "code",
   "execution_count": 5,
   "id": "21805809",
   "metadata": {},
   "outputs": [
    {
     "name": "stdout",
     "output_type": "stream",
     "text": [
      "capacity-scheduler.xml\n",
      "configuration.xsl\n",
      "container-executor.cfg\n",
      "core-site.xml\n",
      "core-site.xml.48132.2022-02-15@12:29:41~\n"
     ]
    }
   ],
   "source": [
    "%%bash\n",
    "export HADOOP_CONF_DIR=\"/opt/hadoop/hadoop-3.2.2/etc/hadoop\"\n",
    "ls $HADOOP_CONF_DIR | head -n 5"
   ]
  },
  {
   "cell_type": "markdown",
   "id": "e96ea383",
   "metadata": {},
   "source": [
    "## PYTHONPATH\n",
    "\n",
    "Refer to the **pyspark** modules to load from the ```$SPARK_HOME/python/lib``` in the Spark installation.\n",
    "\n",
    "* [PySpark Getting Started](https://spark.apache.org/docs/latest/api/python/getting_started/install.html)\n",
    "\n",
    "> Ensure the SPARK_HOME environment variable points to the directory where the tar file has been extracted. Update PYTHONPATH environment variable such that it can find the PySpark and Py4J under SPARK_HOME/python/lib. One example of doing this is shown below:\n",
    "\n",
    "```\n",
    "export PYTHONPATH=$(ZIPS=(\"$SPARK_HOME\"/python/lib/*.zip); IFS=:; echo \"${ZIPS[*]}\"):$PYTHONPATH\n",
    "```\n",
    "\n",
    "Alternatively install **pyspark** with pip or conda locally which installs the Spark runtime libararies (for standalone).\n",
    "\n",
    "* [Can PySpark work without Spark?](https://stackoverflow.com/questions/51728177/can-pyspark-work-without-spark)\n",
    "\n",
    "> As of v2.2, executing pip install pyspark will install Spark. If you're going to use Pyspark it's clearly the simplest way to get started. On my system Spark is installed inside my virtual environment (miniconda) at lib/python3.6/site-packages/pyspark/jars  \n",
    "> PySpark has a Spark installation installed. If installed through pip3, you can find it with pip3 show pyspark. Ex. for me it is at ~/.local/lib/python3.8/site-packages/pyspark. This is a standalone configuration so it can't be used for managing clusters like a full Spark installation."
   ]
  },
  {
   "cell_type": "code",
   "execution_count": 6,
   "id": "2fbbd15b",
   "metadata": {},
   "outputs": [],
   "source": [
    "# os.environ['PYTHONPATH'] = \"/opt/spark/spark-3.1.2/python/lib/py4j-0.10.9-src.zip:/opt/spark/spark-3.1.2/python/lib/pyspark.zip\"\n",
    "sys.path.extend([\n",
    "    \"/opt/spark/spark-3.1.2/python/lib/py4j-0.10.9-src.zip\",\n",
    "    \"/opt/spark/spark-3.1.2/python/lib/pyspark.zip\"\n",
    "])"
   ]
  },
  {
   "cell_type": "markdown",
   "id": "fc972bc5",
   "metadata": {},
   "source": [
    "## PySpark package imports\n",
    "\n",
    "Execute after the PYTHONPATH setup."
   ]
  },
  {
   "cell_type": "code",
   "execution_count": 67,
   "id": "7bc37261",
   "metadata": {},
   "outputs": [],
   "source": [
    "import pyspark.sql \n",
    "from pyspark.sql.types import *\n",
    "from pyspark.sql.functions import (\n",
    "    col,\n",
    "    lit,\n",
    "    avg,\n",
    "    stddev,\n",
    "    isnan,\n",
    "    date_format,\n",
    "    to_date,\n",
    "    trunc,\n",
    "    months_between,\n",
    "    add_months,\n",
    "    regexp_extract,\n",
    "    regexp_replace,\n",
    "    from_unixtime,\n",
    ")"
   ]
  },
  {
   "cell_type": "markdown",
   "id": "c84cdb11",
   "metadata": {},
   "source": [
    "---\n",
    "# Spark Session\n"
   ]
  },
  {
   "cell_type": "code",
   "execution_count": 8,
   "id": "15d4da6f",
   "metadata": {},
   "outputs": [],
   "source": [
    "from pyspark.sql import SparkSession"
   ]
  },
  {
   "cell_type": "code",
   "execution_count": 9,
   "id": "b4882cc3",
   "metadata": {},
   "outputs": [
    {
     "name": "stderr",
     "output_type": "stream",
     "text": [
      "2022-02-22 18:41:05,094 WARN util.NativeCodeLoader: Unable to load native-hadoop library for your platform... using builtin-java classes where applicable\n",
      "Setting default log level to \"WARN\".\n",
      "To adjust logging level use sc.setLogLevel(newLevel). For SparkR, use setLogLevel(newLevel).\n",
      "2022-02-22 18:41:06,990 WARN util.Utils: Service 'SparkUI' could not bind on port 4040. Attempting port 4041.\n",
      "2022-02-22 18:41:08,520 WARN yarn.Client: Neither spark.yarn.jars nor spark.yarn.archive is set, falling back to uploading libraries under SPARK_HOME.\n"
     ]
    }
   ],
   "source": [
    "spark = SparkSession.builder\\\n",
    "    .master('yarn') \\\n",
    "    .config('spark.submit.deployMode', 'client') \\\n",
    "    .config('spark.debug.maxToStringFields', 100) \\\n",
    "    .config('spark.executor.memory', '2g') \\\n",
    "    .getOrCreate()"
   ]
  },
  {
   "cell_type": "code",
   "execution_count": 10,
   "id": "dc80e90e",
   "metadata": {},
   "outputs": [],
   "source": [
    "NUM_CORES = 4\n",
    "NUM_PARTITIONS = 3\n",
    "\n",
    "spark.conf.set(\"spark.sql.shuffle.partitions\", NUM_CORES * NUM_PARTITIONS)\n",
    "spark.conf.set(\"spark.default.parallelism\", NUM_CORES * NUM_PARTITIONS)\n",
    "spark.conf.set('spark.sql.legacy.timeParserPolicy', 'LEGACY')"
   ]
  },
  {
   "cell_type": "markdown",
   "id": "ae8c757d",
   "metadata": {},
   "source": [
    "# DataFrame from Python data\n",
    "\n",
    "* [SparkSession.createDataFrame(data, schema=None, samplingRatio=None, verifySchema=True)](https://spark.apache.org/docs/3.1.1/api/python/reference/api/pyspark.sql.SparkSession.createDataFrame.html)"
   ]
  },
  {
   "cell_type": "markdown",
   "id": "8ebd05ad",
   "metadata": {},
   "source": [
    "# Schema Definition\n",
    "\n",
    "* [Data Types](https://spark.apache.org/docs/latest/sql-ref-datatypes.html#data-types)\n",
    "\n",
    "```from pyspark.sql.types import *```\n",
    "\n",
    "| Data type | Value type in Python | API to access or create a data type |  |\n",
    "|:---|:---|:---|:--|\n",
    "|ByteType | int or long Note: Numbers will be converted to 1-byte signed integer numbers at runtime. Please make sure that numbers are within the range of -128 to 127. | ByteType() |  |\n",
    "| ShortType | int or long Note: Numbers will be converted to 2-byte signed integer numbers at runtime. Please make sure that numbers are within the range of -32768 to 32767. | ShortType() |  |\n",
    "| IntegerType | int or long | IntegerType() |  |\n",
    "| LongType | long Note: Numbers will be converted to 8-byte signed integer numbers at runtime. Please make sure that numbers are within the range of -9223372036854775808 to 9223372036854775807.Otherwise, please convert data to decimal.Decimal and use DecimalType. | LongType() |  |\n",
    "| FloatType | float Note: Numbers will be converted to 4-byte single-precision floating point numbers at runtime. | FloatType() |  |\n",
    "| DoubleType | float | DoubleType() |  |\n",
    "| DecimalType | decimal.Decimal | DecimalType() |  |\n",
    "| StringType | string | StringType() |  |\n",
    "| BinaryType | bytearray | BinaryType() |  |\n",
    "| BooleanType | bool | BooleanType() |  |\n",
    "| TimestampType | datetime.datetime | TimestampType() |  |\n",
    "| DateType | datetime.date | DateType() |  |\n",
    "| ArrayType | list, tuple, or array | ArrayType(elementType, [containsNull]) Note:The default value of containsNull is True. |  |\n",
    "| MapType | dict | MapType(keyType, valueType, [valueContainsNull]) Note:The default value of valueContainsNull is True. |  |\n",
    "| StructType | list or tuple | StructType(fields) Note: fields is a Seq of StructFields. Also, two fields with the same name are not allowed. |  |\n",
    "| StructField | The value type in Python of the data type of this field (For example, Int for a StructField with the data type IntegerType) | StructField(name, dataType, [nullable]) Note: The default value of nullable is True. |  |\n"
   ]
  },
  {
   "cell_type": "markdown",
   "id": "53574cf7",
   "metadata": {},
   "source": [
    "# Data\n"
   ]
  },
  {
   "cell_type": "code",
   "execution_count": 23,
   "id": "8ccf433a",
   "metadata": {
    "scrolled": true
   },
   "outputs": [
    {
     "name": "stdout",
     "output_type": "stream",
     "text": [
      "Archive:  kaggle_nytimes_bestsellers.zip\n",
      "  inflating: nyt2.json               \n"
     ]
    }
   ],
   "source": [
    "%%bash\n",
    "cd ./data/books\n",
    "unzip -o kaggle_nytimes_bestsellers.zip \n",
    "\n",
    "hdfs dfs -mkdir -p books\n",
    "hdfs dfs -put -f nyt2.json books/"
   ]
  },
  {
   "cell_type": "code",
   "execution_count": 74,
   "id": "7cf22b6b",
   "metadata": {
    "scrolled": true
   },
   "outputs": [
    {
     "name": "stdout",
     "output_type": "stream",
     "text": [
      "root\n",
      " |-- _id: struct (nullable = true)\n",
      " |    |-- $oid: string (nullable = true)\n",
      " |-- amazon_product_url: string (nullable = true)\n",
      " |-- author: string (nullable = true)\n",
      " |-- bestsellers_date: struct (nullable = true)\n",
      " |    |-- $date: struct (nullable = true)\n",
      " |    |    |-- $numberLong: string (nullable = true)\n",
      " |-- description: string (nullable = true)\n",
      " |-- price: struct (nullable = true)\n",
      " |    |-- $numberDouble: string (nullable = true)\n",
      " |    |-- $numberInt: string (nullable = true)\n",
      " |-- published_date: struct (nullable = true)\n",
      " |    |-- $date: struct (nullable = true)\n",
      " |    |    |-- $numberLong: string (nullable = true)\n",
      " |-- publisher: string (nullable = true)\n",
      " |-- rank: struct (nullable = true)\n",
      " |    |-- $numberInt: string (nullable = true)\n",
      " |-- rank_last_week: struct (nullable = true)\n",
      " |    |-- $numberInt: string (nullable = true)\n",
      " |-- title: string (nullable = true)\n",
      " |-- weeks_on_list: struct (nullable = true)\n",
      " |    |-- $numberInt: string (nullable = true)\n",
      "\n"
     ]
    }
   ],
   "source": [
    "preview = spark.read\\\n",
    "    .option(\"compression\", \"none\")\\\n",
    "    .option(\"inferSchema\", True)\\\n",
    "    .json(\"books/nyt2.json\")\n",
    "\n",
    "preview.printSchema()\n",
    "del preview"
   ]
  },
  {
   "cell_type": "code",
   "execution_count": 76,
   "id": "0122ef49",
   "metadata": {},
   "outputs": [
    {
     "name": "stdout",
     "output_type": "stream",
     "text": [
      "root\n",
      " |-- title: string (nullable = true)\n",
      " |-- author: string (nullable = true)\n",
      " |-- price: string (nullable = true)\n",
      " |-- published: date (nullable = true)\n",
      " |-- best_seller_date: date (nullable = true)\n",
      " |-- url: string (nullable = true)\n",
      "\n",
      "+--------------------------------------------------+----------------------------------------+-----+----------+----------------+--------------------------------------------------------------------------------------------------+\n",
      "|title                                             |author                                  |price|published |best_seller_date|url                                                                                               |\n",
      "+--------------------------------------------------+----------------------------------------+-----+----------+----------------+--------------------------------------------------------------------------------------------------+\n",
      "|ODD HOURS                                         |Dean R Koontz                           |null |2008-06-08|2008-05-24      |http://www.amazon.com/Odd-Hours-Dean-Koontz/dp/0553807056?tag=NYTBS-20                            |\n",
      "|THE HOST                                          |Stephenie Meyer                         |25.99|2008-06-08|2008-05-24      |http://www.amazon.com/The-Host-Novel-Stephenie-Meyer/dp/0316218502?tag=NYTBS-20                   |\n",
      "|LOVE THE ONE YOU'RE WITH                          |Emily Giffin                            |24.95|2008-06-08|2008-05-24      |http://www.amazon.com/Love-Youre-With-Emily-Giffin/dp/0312348665?tag=NYTBS-20                     |\n",
      "|THE FRONT                                         |Patricia Cornwell                       |22.95|2008-06-08|2008-05-24      |http://www.amazon.com/The-Front-Garano-Patricia-Cornwell-ebook/dp/B0017T0C9M?tag=NYTBS-20         |\n",
      "|SNUFF                                             |Chuck Palahniuk                         |24.95|2008-06-08|2008-05-24      |http://www.amazon.com/Snuff-Chuck-Palahniuk/dp/0385517882?tag=NYTBS-20                            |\n",
      "|SUNDAYS AT TIFFANY’S                              |James Patterson and Gabrielle Charbonnet|24.99|2008-06-08|2008-05-24      |http://www.amazon.com/Sundays-at-Tiffanys-James-Patterson/dp/0446199443?tag=NYTBS-20              |\n",
      "|PHANTOM PREY                                      |John Sandford                           |26.95|2008-06-08|2008-05-24      |http://www.amazon.com/Phantom-Prey-John-Sandford/dp/0425227987?tag=NYTBS-20                       |\n",
      "|SWINE NOT?                                        |Jimmy Buffett                           |21.99|2008-06-08|2008-05-24      |http://www.amazon.com/From-Worse-Southern-Vampire-Mysteries/dp/0441015891?tag=NYTBS-20            |\n",
      "|CARELESS IN RED                                   |Elizabeth George                        |27.95|2008-06-08|2008-05-24      |http://www.amazon.com/Where-Are-You-Now-Novel/dp/1416566384?tag=NYTBS-20                          |\n",
      "|THE WHOLE TRUTH                                   |David Baldacci                          |26.99|2008-06-08|2008-05-24      |http://www.amazon.com/The-Whole-Truth-David-Baldacci/dp/0446539686?tag=NYTBS-20                   |\n",
      "|INVINCIBLE                                        |Troy Denning                            |null |2008-06-08|2008-05-24      |http://www.amazon.com/Careless-Red-Novel-Elizabeth-George/dp/0061160873?tag=NYTBS-20              |\n",
      "|BRIGHT SHINY MORNING                              |James Frey                              |26.95|2008-06-08|2008-05-24      |http://www.amazon.com/Unaccustomed-Earth-Jhumpa-Lahiri/dp/0307265730?tag=NYTBS-20                 |\n",
      "|THE ART OF RACING IN THE RAIN                     |Garth Stein                             |23.95|2008-06-08|2008-05-24      |http://www.amazon.com/The-Racing-Rain-Garth-Stein-ebook/dp/B0017SWPXY?tag=NYTBS-20                |\n",
      "|TWENTY WISHES                                     |Debbie Macomber                         |24.95|2008-06-08|2008-05-24      |http://www.amazon.com/Twenty-Wishes-Blossom-Street-Books/dp/0778326314?tag=NYTBS-20               |\n",
      "|THE STEEL WAVE                                    |Jeff Shaara                             |null |2008-06-08|2008-05-24      |http://www.amazon.com/Hold-Tight-Harlan-Coben/dp/0525950605?tag=NYTBS-20                          |\n",
      "|EXECUTIVE PRIVILEGE                               |Phillip Margolin                        |null |2008-06-08|2008-05-24      |http://www.amazon.com/Executive-Privilege-Novel-Phillip-Margolin/dp/0061236217?tag=NYTBS-20       |\n",
      "|UNACCUSTOMED EARTH                                |Jhumpa Lahiri                           |null |2008-06-08|2008-05-24      |http://www.amazon.com/Unaccustomed-Vintage-Contemporaries-Jhumpa-Lahiri/dp/0307278255?tag=NYTBS-20|\n",
      "|NETHERLAND                                        |Joseph O'Neill                          |null |2008-06-08|2008-05-24      |http://www.amazon.com/Netherland-A-Novel-Joseph-ONeill/dp/0307377040?tag=NYTBS-20                 |\n",
      "|THE APPEAL                                        |John Grisham                            |null |2008-06-08|2008-05-24      |http://www.amazon.com/The-Appeal-John-Grisham/dp/0440243815?tag=NYTBS-20                          |\n",
      "|INDIANA JONES AND THE KINGDOM OF THE CRYSTAL SKULL|James Rollins                           |null |2008-06-08|2008-05-24      |http://www.amazon.com/Indiana-Jones-Kingdom-Crystal-Skull/dp/0345501284?tag=NYTBS-20              |\n",
      "+--------------------------------------------------+----------------------------------------+-----+----------+----------------+--------------------------------------------------------------------------------------------------+\n",
      "only showing top 20 rows\n",
      "\n"
     ]
    }
   ],
   "source": [
    "books = spark\\\n",
    "    .read\\\n",
    "    .option(\"compression\", \"none\")\\\n",
    "    .option(\"inferSchema\", True)\\\n",
    "    .json(\"books/nyt2.json\")\\\n",
    "    .select(\n",
    "        \"title\",\n",
    "        \"author\",\n",
    "        col(\"price.$numberDouble\").alias(\"price\"),    \n",
    "        to_date(\n",
    "            from_unixtime(col(\"published_date.$date.$numberLong\") / 1000),\n",
    "            \"yyyy-MM-dd\"\n",
    "        ).alias(\"published\"),\n",
    "        to_date(\n",
    "            from_unixtime(col(\"bestsellers_date.$date.$numberLong\") / 1000),\n",
    "            \"yyyy-MM-dd\"\n",
    "        ).alias(\"best_seller_date\"),\n",
    "        col(\"amazon_product_url\").alias(\"url\")\n",
    "    )\n",
    "books.printSchema()\n",
    "books.show(truncate=False)"
   ]
  },
  {
   "cell_type": "code",
   "execution_count": 103,
   "id": "e67aa3b2",
   "metadata": {
    "scrolled": true
   },
   "outputs": [
    {
     "name": "stdout",
     "output_type": "stream",
     "text": [
      "+-------------------+----------+-----+----------+----------------+--------------------+\n",
      "|              title|    author|price| published|best_seller_date|                 url|\n",
      "+-------------------+----------+-----+----------+----------------+--------------------+\n",
      "|THE SPIES OF WARSAW|Alan Furst| null|2008-06-22|      2008-06-07|http://www.amazon...|\n",
      "|THE SPIES OF WARSAW|Alan Furst| null|2008-06-29|      2008-06-14|http://www.amazon...|\n",
      "|THE SPIES OF WARSAW|Alan Furst| null|2008-07-06|      2008-06-21|http://www.amazon...|\n",
      "+-------------------+----------+-----+----------+----------------+--------------------+\n",
      "only showing top 3 rows\n",
      "\n"
     ]
    }
   ],
   "source": [
    "books.where(col(\"author\").like(\"Alan%\")).show(3)"
   ]
  },
  {
   "cell_type": "code",
   "execution_count": 105,
   "id": "87fe8fb9",
   "metadata": {
    "scrolled": true
   },
   "outputs": [
    {
     "name": "stdout",
     "output_type": "stream",
     "text": [
      "+-------------------+----------+-----+----------+----------------+--------------------+\n",
      "|              title|    author|price| published|best_seller_date|                 url|\n",
      "+-------------------+----------+-----+----------+----------------+--------------------+\n",
      "|THE SPIES OF WARSAW|Alan Furst| null|2008-06-22|      2008-06-07|http://www.amazon...|\n",
      "|THE SPIES OF WARSAW|Alan Furst| null|2008-06-29|      2008-06-14|http://www.amazon...|\n",
      "|THE SPIES OF WARSAW|Alan Furst| null|2008-07-06|      2008-06-21|http://www.amazon...|\n",
      "+-------------------+----------+-----+----------+----------------+--------------------+\n",
      "only showing top 3 rows\n",
      "\n"
     ]
    }
   ],
   "source": [
    "books.where(col(\"author\").startswith(\"Alan\")).show(3)"
   ]
  },
  {
   "cell_type": "markdown",
   "id": "c1928af9",
   "metadata": {},
   "source": [
    "---\n",
    "# Stop Spark Session"
   ]
  },
  {
   "cell_type": "code",
   "execution_count": 106,
   "id": "a09e1214",
   "metadata": {},
   "outputs": [],
   "source": [
    "spark.stop()"
   ]
  },
  {
   "cell_type": "markdown",
   "id": "afe597fb",
   "metadata": {},
   "source": [
    "\n",
    "\n",
    "# Cleanup"
   ]
  },
  {
   "cell_type": "code",
   "execution_count": 107,
   "id": "71a6106c",
   "metadata": {},
   "outputs": [
    {
     "data": {
      "text/plain": [
       "7191"
      ]
     },
     "execution_count": 107,
     "metadata": {},
     "output_type": "execute_result"
    }
   ],
   "source": [
    "del spark\n",
    "gc.collect()"
   ]
  },
  {
   "cell_type": "code",
   "execution_count": null,
   "id": "d05d5b37",
   "metadata": {},
   "outputs": [],
   "source": []
  }
 ],
 "metadata": {
  "kernelspec": {
   "display_name": "Python 3 (ipykernel)",
   "language": "python",
   "name": "python3"
  },
  "language_info": {
   "codemirror_mode": {
    "name": "ipython",
    "version": 3
   },
   "file_extension": ".py",
   "mimetype": "text/x-python",
   "name": "python",
   "nbconvert_exporter": "python",
   "pygments_lexer": "ipython3",
   "version": "3.8.10"
  }
 },
 "nbformat": 4,
 "nbformat_minor": 5
}
