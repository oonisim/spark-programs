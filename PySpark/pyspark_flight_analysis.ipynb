{
 "cells": [
  {
   "cell_type": "markdown",
   "id": "a609ffd2",
   "metadata": {},
   "source": [
    "# Flight data analysis"
   ]
  },
  {
   "cell_type": "code",
   "execution_count": 4,
   "id": "37098727",
   "metadata": {},
   "outputs": [
    {
     "data": {
      "text/html": [
       "<style>\n",
       "table {float:left}\n",
       "</style>\n"
      ],
      "text/plain": [
       "<IPython.core.display.HTML object>"
      ]
     },
     "metadata": {},
     "output_type": "display_data"
    }
   ],
   "source": [
    "%%html\n",
    "<style>\n",
    "table {float:left}\n",
    "</style>"
   ]
  },
  {
   "cell_type": "code",
   "execution_count": 5,
   "id": "13fc02f8",
   "metadata": {},
   "outputs": [
    {
     "data": {
      "text/html": [
       "<style>\n",
       "div.output_area pre {\n",
       "    white-space: pre;\n",
       "}\n",
       "</style>\n"
      ],
      "text/plain": [
       "<IPython.core.display.HTML object>"
      ]
     },
     "metadata": {},
     "output_type": "display_data"
    }
   ],
   "source": [
    "%%html\n",
    "<style>\n",
    "div.output_area pre {\n",
    "    white-space: pre;\n",
    "}\n",
    "</style>"
   ]
  },
  {
   "cell_type": "code",
   "execution_count": 18,
   "id": "e765d5f9",
   "metadata": {},
   "outputs": [],
   "source": [
    "import os\n",
    "import sys\n",
    "import gc\n",
    "from datetime import (\n",
    "    datetime,\n",
    "    date\n",
    ")\n",
    "import numpy as np\n",
    "import pandas as pd"
   ]
  },
  {
   "cell_type": "markdown",
   "id": "6bfc892c",
   "metadata": {},
   "source": [
    "#  Environemnt Variables\n",
    "\n",
    "## Hadoop"
   ]
  },
  {
   "cell_type": "code",
   "execution_count": 7,
   "id": "a0ee72b5",
   "metadata": {},
   "outputs": [],
   "source": [
    "os.environ['HADOOP_CONF_DIR'] = \"/opt/hadoop/hadoop-3.2.2/etc/hadoop\""
   ]
  },
  {
   "cell_type": "code",
   "execution_count": 8,
   "id": "21805809",
   "metadata": {},
   "outputs": [
    {
     "name": "stdout",
     "output_type": "stream",
     "text": [
      "capacity-scheduler.xml\n",
      "configuration.xsl\n",
      "container-executor.cfg\n",
      "core-site.xml\n",
      "core-site.xml.48132.2022-02-15@12:29:41~\n"
     ]
    }
   ],
   "source": [
    "%%bash\n",
    "export HADOOP_CONF_DIR=\"/opt/hadoop/hadoop-3.2.2/etc/hadoop\"\n",
    "ls $HADOOP_CONF_DIR | head -n 5"
   ]
  },
  {
   "cell_type": "markdown",
   "id": "e96ea383",
   "metadata": {},
   "source": [
    "## PYTHONPATH\n",
    "\n",
    "Refer to the **pyspark** modules to load from the ```$SPARK_HOME/python/lib``` in the Spark installation.\n",
    "\n",
    "* [PySpark Getting Started](https://spark.apache.org/docs/latest/api/python/getting_started/install.html)\n",
    "\n",
    "> Ensure the SPARK_HOME environment variable points to the directory where the tar file has been extracted. Update PYTHONPATH environment variable such that it can find the PySpark and Py4J under SPARK_HOME/python/lib. One example of doing this is shown below:\n",
    "\n",
    "```\n",
    "export PYTHONPATH=$(ZIPS=(\"$SPARK_HOME\"/python/lib/*.zip); IFS=:; echo \"${ZIPS[*]}\"):$PYTHONPATH\n",
    "```\n",
    "\n",
    "Alternatively install **pyspark** with pip or conda locally which installs the Spark runtime libararies (for standalone).\n",
    "\n",
    "* [Can PySpark work without Spark?](https://stackoverflow.com/questions/51728177/can-pyspark-work-without-spark)\n",
    "\n",
    "> As of v2.2, executing pip install pyspark will install Spark. If you're going to use Pyspark it's clearly the simplest way to get started. On my system Spark is installed inside my virtual environment (miniconda) at lib/python3.6/site-packages/pyspark/jars  \n",
    "> PySpark has a Spark installation installed. If installed through pip3, you can find it with pip3 show pyspark. Ex. for me it is at ~/.local/lib/python3.8/site-packages/pyspark. This is a standalone configuration so it can't be used for managing clusters like a full Spark installation."
   ]
  },
  {
   "cell_type": "code",
   "execution_count": 9,
   "id": "2fbbd15b",
   "metadata": {},
   "outputs": [],
   "source": [
    "# os.environ['PYTHONPATH'] = \"/opt/spark/spark-3.1.2/python/lib/py4j-0.10.9-src.zip:/opt/spark/spark-3.1.2/python/lib/pyspark.zip\"\n",
    "sys.path.extend([\n",
    "    \"/opt/spark/spark-3.1.2/python/lib/py4j-0.10.9-src.zip\",\n",
    "    \"/opt/spark/spark-3.1.2/python/lib/pyspark.zip\"\n",
    "])"
   ]
  },
  {
   "cell_type": "markdown",
   "id": "fc972bc5",
   "metadata": {},
   "source": [
    "## PySpark package imports\n",
    "\n",
    "Execute after the PYTHONPATH setup."
   ]
  },
  {
   "cell_type": "code",
   "execution_count": 91,
   "id": "7bc37261",
   "metadata": {},
   "outputs": [],
   "source": [
    "import pyspark.sql \n",
    "from pyspark.sql.types import *\n",
    "from pyspark.sql.functions import (\n",
    "    col,\n",
    "    when,\n",
    "    lit,\n",
    "    avg,\n",
    "    stddev,\n",
    "    isnan,\n",
    "    date_format,\n",
    "    to_date,\n",
    "    months_between,\n",
    "    add_months,\n",
    "    lower,\n",
    "    upper,\n",
    ")"
   ]
  },
  {
   "cell_type": "markdown",
   "id": "c84cdb11",
   "metadata": {},
   "source": [
    "---\n",
    "# Spark Session\n"
   ]
  },
  {
   "cell_type": "code",
   "execution_count": 11,
   "id": "15d4da6f",
   "metadata": {},
   "outputs": [],
   "source": [
    "from pyspark.sql import SparkSession"
   ]
  },
  {
   "cell_type": "code",
   "execution_count": 12,
   "id": "b4882cc3",
   "metadata": {},
   "outputs": [
    {
     "name": "stderr",
     "output_type": "stream",
     "text": [
      "2022-02-22 08:45:19,116 WARN util.NativeCodeLoader: Unable to load native-hadoop library for your platform... using builtin-java classes where applicable\n",
      "Setting default log level to \"WARN\".\n",
      "To adjust logging level use sc.setLogLevel(newLevel). For SparkR, use setLogLevel(newLevel).\n",
      "2022-02-22 08:45:24,856 WARN yarn.Client: Neither spark.yarn.jars nor spark.yarn.archive is set, falling back to uploading libraries under SPARK_HOME.\n"
     ]
    }
   ],
   "source": [
    "spark = SparkSession.builder\\\n",
    "    .master('yarn') \\\n",
    "    .config('spark.submit.deployMode', 'client') \\\n",
    "    .config('spark.debug.maxToStringFields', 100) \\\n",
    "    .config('spark.executor.memory', '2g') \\\n",
    "    .getOrCreate()"
   ]
  },
  {
   "cell_type": "code",
   "execution_count": 13,
   "id": "dc80e90e",
   "metadata": {},
   "outputs": [],
   "source": [
    "NUM_CORES = 4\n",
    "NUM_PARTITIONS = 3\n",
    "\n",
    "spark.conf.set(\"spark.sql.shuffle.partitions\", NUM_CORES * NUM_PARTITIONS)\n",
    "spark.conf.set(\"spark.default.parallelism\", NUM_CORES * NUM_PARTITIONS)\n",
    "spark.conf.set('spark.sql.legacy.timeParserPolicy', 'LEGACY')"
   ]
  },
  {
   "cell_type": "markdown",
   "id": "ae8c757d",
   "metadata": {},
   "source": [
    "# DataFrame from Python data\n",
    "\n",
    "* [SparkSession.createDataFrame(data, schema=None, samplingRatio=None, verifySchema=True)](https://spark.apache.org/docs/3.1.1/api/python/reference/api/pyspark.sql.SparkSession.createDataFrame.html)"
   ]
  },
  {
   "cell_type": "markdown",
   "id": "8ebd05ad",
   "metadata": {},
   "source": [
    "# Schema Definition\n",
    "\n",
    "* [Data Types](https://spark.apache.org/docs/latest/sql-ref-datatypes.html#data-types)\n",
    "\n",
    "```from pyspark.sql.types import *```\n",
    "\n",
    "| Data type | Value type in Python | API to access or create a data type |  |\n",
    "|:---|:---|:---|:--|\n",
    "|ByteType | int or long Note: Numbers will be converted to 1-byte signed integer numbers at runtime. Please make sure that numbers are within the range of -128 to 127. | ByteType() |  |\n",
    "| ShortType | int or long Note: Numbers will be converted to 2-byte signed integer numbers at runtime. Please make sure that numbers are within the range of -32768 to 32767. | ShortType() |  |\n",
    "| IntegerType | int or long | IntegerType() |  |\n",
    "| LongType | long Note: Numbers will be converted to 8-byte signed integer numbers at runtime. Please make sure that numbers are within the range of -9223372036854775808 to 9223372036854775807.Otherwise, please convert data to decimal.Decimal and use DecimalType. | LongType() |  |\n",
    "| FloatType | float Note: Numbers will be converted to 4-byte single-precision floating point numbers at runtime. | FloatType() |  |\n",
    "| DoubleType | float | DoubleType() |  |\n",
    "| DecimalType | decimal.Decimal | DecimalType() |  |\n",
    "| StringType | string | StringType() |  |\n",
    "| BinaryType | bytearray | BinaryType() |  |\n",
    "| BooleanType | bool | BooleanType() |  |\n",
    "| TimestampType | datetime.datetime | TimestampType() |  |\n",
    "| DateType | datetime.date | DateType() |  |\n",
    "| ArrayType | list, tuple, or array | ArrayType(elementType, [containsNull]) Note:The default value of containsNull is True. |  |\n",
    "| MapType | dict | MapType(keyType, valueType, [valueContainsNull]) Note:The default value of valueContainsNull is True. |  |\n",
    "| StructType | list or tuple | StructType(fields) Note: fields is a Seq of StructFields. Also, two fields with the same name are not allowed. |  |\n",
    "| StructField | The value type in Python of the data type of this field (For example, Int for a StructField with the data type IntegerType) | StructField(name, dataType, [nullable]) Note: The default value of nullable is True. |  |\n"
   ]
  },
  {
   "cell_type": "markdown",
   "id": "9fea50fe",
   "metadata": {},
   "source": [
    "# Data\n"
   ]
  },
  {
   "cell_type": "code",
   "execution_count": 15,
   "id": "c23f5ea1",
   "metadata": {},
   "outputs": [],
   "source": [
    "%%bash\n",
    "hdfs dfs -mkdir -p flight\n",
    "hdfs dfs -put -f ./data/flight/*.csv flight/"
   ]
  },
  {
   "cell_type": "code",
   "execution_count": 100,
   "id": "7cf22b6b",
   "metadata": {},
   "outputs": [
    {
     "name": "stdout",
     "output_type": "stream",
     "text": [
      "root\n",
      " |-- passengerId: integer (nullable = true)\n",
      " |-- flightId: integer (nullable = true)\n",
      " |-- from: string (nullable = true)\n",
      " |-- to: string (nullable = true)\n",
      " |-- date: date (nullable = true)\n",
      " |-- direction: integer (nullable = false)\n",
      "\n",
      "+-----------+--------+----+---+----------+---------+\n",
      "|passengerId|flightId|from|to |date      |direction|\n",
      "+-----------+--------+----+---+----------+---------+\n",
      "|48         |0       |cg  |ir |2017-01-01|0        |\n",
      "|94         |0       |cg  |ir |2017-01-01|0        |\n",
      "|82         |0       |cg  |ir |2017-01-01|0        |\n",
      "|21         |0       |cg  |ir |2017-01-01|0        |\n",
      "|51         |0       |cg  |ir |2017-01-01|0        |\n",
      "+-----------+--------+----+---+----------+---------+\n",
      "only showing top 5 rows\n",
      "\n"
     ]
    }
   ],
   "source": [
    "flight = spark.read\\\n",
    "    .option(\"compression\", \"none\")\\\n",
    "    .option(\"header\", True)\\\n",
    "    .option(\"sep\", ',')\\\n",
    "    .option(\"nullValue\", np.nan)\\\n",
    "    .option(\"inferSchema\", True)\\\n",
    "    .option(\"dateFormat\", \"yyyy-MM-dd\")\\\n",
    "    .csv(\"flight/flightData.csv\")\\\n",
    "    .withColumn(\"date\", to_date(col(\"date\"), \"yyyy-MM-dd\"))\\\n",
    "    .withColumn(\n",
    "        \"direction\", \n",
    "        when(lower(col(\"from\")) == \"uk\", 1)\n",
    "        .when(lower(col(\"to\"))   == \"uk\", -1)\n",
    "        .otherwise(0)\n",
    "    )\n",
    "\n",
    "flight.printSchema()\n",
    "flight.createOrReplaceTempView(\"flight\")\n",
    "flight.show(5, truncate=False)"
   ]
  },
  {
   "cell_type": "code",
   "execution_count": 99,
   "id": "7f1353b4",
   "metadata": {},
   "outputs": [
    {
     "name": "stdout",
     "output_type": "stream",
     "text": [
      "+-----------+--------+----+---+----------+---------+\n",
      "|passengerId|flightId|from| to|      date|direction|\n",
      "+-----------+--------+----+---+----------+---------+\n",
      "|        382|      18|  jo| uk|2017-01-04|       -1|\n",
      "|        385|      18|  jo| uk|2017-01-04|       -1|\n",
      "|       1001|      18|  jo| uk|2017-01-04|       -1|\n",
      "|       1025|      18|  jo| uk|2017-01-04|       -1|\n",
      "|        378|      18|  jo| uk|2017-01-04|       -1|\n",
      "+-----------+--------+----+---+----------+---------+\n",
      "\n"
     ]
    }
   ],
   "source": [
    "flight.where(col(\"direction\") == -1).limit(5).show()"
   ]
  },
  {
   "cell_type": "code",
   "execution_count": 81,
   "id": "1140b5c9",
   "metadata": {},
   "outputs": [
    {
     "name": "stdout",
     "output_type": "stream",
     "text": [
      "root\n",
      " |-- passengerId: integer (nullable = true)\n",
      " |-- firstName: string (nullable = true)\n",
      " |-- lastName: string (nullable = true)\n",
      "\n",
      "+-----------+---------+--------+\n",
      "|passengerId|firstName|lastName|\n",
      "+-----------+---------+--------+\n",
      "|      14751| Napoleon| Gaylene|\n",
      "|       2359| Katherin| Shanell|\n",
      "|       5872|   Stevie|  Steven|\n",
      "|       3346|Margarita|   Gerri|\n",
      "|       3704|    Earle|  Candis|\n",
      "|       1226|    Trent|    Omer|\n",
      "|       2677|    Janee|  Lillia|\n",
      "|        179|     Gita|Chastity|\n",
      "|       9763|   Hilton|Jaquelyn|\n",
      "|      11414|      Leo|Margaret|\n",
      "|       6870|     Tama|     Bok|\n",
      "|       3290|    Logan|    Anya|\n",
      "|      13264|   Lowell|Kathryne|\n",
      "|        455|  Maritza|  Maxima|\n",
      "|      13006|     Yuri|   Joyce|\n",
      "|      10323|  Latasha|  Estell|\n",
      "|       7376|   Kaycee|Kiersten|\n",
      "|      15015|   Curtis| Abraham|\n",
      "|       9217|   Verena|Josefine|\n",
      "|       5183|     Loan| Latonya|\n",
      "+-----------+---------+--------+\n",
      "only showing top 20 rows\n",
      "\n"
     ]
    }
   ],
   "source": [
    "passenger = spark.read\\\n",
    "    .option(\"compression\", \"none\")\\\n",
    "    .option(\"header\", True)\\\n",
    "    .option(\"sep\", ',')\\\n",
    "    .option(\"nullValue\", np.nan)\\\n",
    "    .option(\"inferSchema\", True)\\\n",
    "    .csv(\"flight/passengers.csv\")\n",
    "\n",
    "passenger.printSchema()\n",
    "passenger.createOrReplaceTempView(\"passenger\")\n",
    "passenger.show()"
   ]
  },
  {
   "cell_type": "markdown",
   "id": "a8ebbd70",
   "metadata": {},
   "source": [
    "# Number of flights per month"
   ]
  },
  {
   "cell_type": "markdown",
   "id": "1afec704",
   "metadata": {},
   "source": [
    "## Number of months betwen dates\n",
    "\n",
    "* [pyspark.sql.functions.months_between(date1, date2, roundOff=True)](https://spark.apache.org/docs/latest/api/python/reference/api/pyspark.sql.functions.months_between.html)\n",
    "\n",
    "> Returns number of months between dates date1 and date2. "
   ]
  },
  {
   "cell_type": "code",
   "execution_count": 41,
   "id": "8c1c1426",
   "metadata": {},
   "outputs": [
    {
     "name": "stderr",
     "output_type": "stream",
     "text": [
      "2022-02-22 09:25:44,884 WARN window.WindowExec: No Partition Defined for Window operation! Moving all data to a single partition, this can cause serious performance degradation.\n"
     ]
    },
    {
     "name": "stdout",
     "output_type": "stream",
     "text": [
      "+----------+----------+-----------+\n",
      "|      date| base_date|month_index|\n",
      "+----------+----------+-----------+\n",
      "|2017-01-01|2017-01-01|          0|\n",
      "|2017-11-29|2017-01-01|         10|\n",
      "|2017-12-12|2017-01-01|         11|\n",
      "|2017-12-22|2017-01-01|         11|\n",
      "|2017-12-29|2017-01-01|         11|\n",
      "|2017-01-01|2017-01-01|          0|\n",
      "|2017-01-01|2017-01-01|          0|\n",
      "|2017-01-10|2017-01-01|          0|\n",
      "|2017-02-06|2017-01-01|          1|\n",
      "|2017-03-05|2017-01-01|          2|\n",
      "+----------+----------+-----------+\n",
      "only showing top 10 rows\n",
      "\n"
     ]
    }
   ],
   "source": [
    "query = \"\"\"\n",
    "SELECT\n",
    "    date,\n",
    "    MIN(date) OVER (ORDER BY date) AS base_date,\n",
    "    FLOOR(months_between(date, (SELECT MIN(date) FROM flight))) AS month_index\n",
    "FROM\n",
    "    flight\n",
    "ORDER BY \n",
    "    passengerID, \n",
    "    month_index\n",
    "\"\"\"\n",
    "spark.sql(query).show(10)"
   ]
  },
  {
   "cell_type": "markdown",
   "id": "40980a5a",
   "metadata": {},
   "source": [
    "## Month +N\n",
    "\n",
    "* [pyspark.sql.functions.add_months(start, months)](https://spark.apache.org/docs/latest/api/python/reference/api/pyspark.sql.functions.add_months.html)\n",
    "\n",
    "> Returns the date that is months months after start"
   ]
  },
  {
   "cell_type": "code",
   "execution_count": 72,
   "id": "8a75a302",
   "metadata": {},
   "outputs": [
    {
     "name": "stdout",
     "output_type": "stream",
     "text": [
      "+------------+\n",
      "|plus_n_month|\n",
      "+------------+\n",
      "|     2017-04|\n",
      "|     2017-04|\n",
      "|     2017-04|\n",
      "|     2017-04|\n",
      "|     2017-04|\n",
      "|     2017-04|\n",
      "|     2017-04|\n",
      "|     2017-04|\n",
      "|     2017-04|\n",
      "|     2017-04|\n",
      "+------------+\n",
      "only showing top 10 rows\n",
      "\n"
     ]
    }
   ],
   "source": [
    "N = 3\n",
    "query = \"\"\"\n",
    "SELECT\n",
    "    date_format(\n",
    "        add_months(to_date(\"2017-01-01\", \"yyyy-MM-dd\"), {}),\n",
    "        \"yyyy-MM\"\n",
    "    ) as plus_n_month\n",
    "FROM\n",
    "    flight\n",
    "\"\"\".format(N)\n",
    "spark.sql(query).show(10)"
   ]
  },
  {
   "cell_type": "markdown",
   "id": "b41be329",
   "metadata": {},
   "source": [
    "## (flight, month) pairs to group by"
   ]
  },
  {
   "cell_type": "code",
   "execution_count": 59,
   "id": "635f1774",
   "metadata": {},
   "outputs": [
    {
     "name": "stdout",
     "output_type": "stream",
     "text": [
      "+--------+----------+-----------+\n",
      "|flightId|      date|month_index|\n",
      "+--------+----------+-----------+\n",
      "|       0|2017-01-01|          0|\n",
      "|       1|2017-01-01|          0|\n",
      "|       2|2017-01-01|          0|\n",
      "|       3|2017-01-01|          0|\n",
      "|       4|2017-01-01|          0|\n",
      "|       5|2017-01-02|          0|\n",
      "|       6|2017-01-02|          0|\n",
      "|       7|2017-01-02|          0|\n",
      "|       8|2017-01-02|          0|\n",
      "|       9|2017-01-02|          0|\n",
      "|      10|2017-01-02|          0|\n",
      "|      11|2017-01-03|          0|\n",
      "|      12|2017-01-03|          0|\n",
      "|      13|2017-01-03|          0|\n",
      "|      14|2017-01-03|          0|\n",
      "|      15|2017-01-03|          0|\n",
      "|      16|2017-01-04|          0|\n",
      "|      17|2017-01-04|          0|\n",
      "|      18|2017-01-04|          0|\n",
      "|      19|2017-01-05|          0|\n",
      "+--------+----------+-----------+\n",
      "only showing top 20 rows\n",
      "\n"
     ]
    }
   ],
   "source": [
    "query = \"\"\"\n",
    "WITH month_indexed AS (\n",
    "    SELECT DISTINCT\n",
    "        flightId,\n",
    "        date,\n",
    "        FLOOR(months_between(date, (SELECT MIN(date) FROM flight))) AS month_index\n",
    "    FROM\n",
    "        flight\n",
    ")\n",
    "SELECT \n",
    "    *\n",
    "FROM\n",
    "    month_indexed\n",
    "ORDER BY\n",
    "    date,\n",
    "    flightId\n",
    "\"\"\"\n",
    "spark.sql(query).show()"
   ]
  },
  {
   "cell_type": "markdown",
   "id": "5d80ec07",
   "metadata": {},
   "source": [
    "## Flights per month as GROUP BY month_index"
   ]
  },
  {
   "cell_type": "code",
   "execution_count": 74,
   "id": "53ac87e0",
   "metadata": {},
   "outputs": [
    {
     "name": "stderr",
     "output_type": "stream",
     "text": [
      "[Stage 113:==================================================>    (11 + 1) / 12]\r"
     ]
    },
    {
     "name": "stdout",
     "output_type": "stream",
     "text": [
      "+-----------+-------+-----------------+\n",
      "|month_index|  month|number_of_flights|\n",
      "+-----------+-------+-----------------+\n",
      "|          0|2017-01|               97|\n",
      "|          1|2017-02|               73|\n",
      "|          2|2017-03|               82|\n",
      "|          3|2017-04|               92|\n",
      "|          4|2017-05|               92|\n",
      "|          5|2017-06|               71|\n",
      "|          6|2017-07|               87|\n",
      "|          7|2017-08|               76|\n",
      "|          8|2017-09|               85|\n",
      "|          9|2017-10|               76|\n",
      "|         10|2017-11|               75|\n",
      "|         11|2017-12|               94|\n",
      "+-----------+-------+-----------------+\n",
      "\n",
      "== Physical Plan ==\n",
      "* Sort (10)\n",
      "+- Exchange (9)\n",
      "   +- * HashAggregate (8)\n",
      "      +- Exchange (7)\n",
      "         +- * HashAggregate (6)\n",
      "            +- * HashAggregate (5)\n",
      "               +- Exchange (4)\n",
      "                  +- * HashAggregate (3)\n",
      "                     +- * Project (2)\n",
      "                        +- Scan csv  (1)\n",
      "\n",
      "\n",
      "(1) Scan csv \n",
      "Output [2]: [flightId#174, date#177]\n",
      "Batched: false\n",
      "Location: InMemoryFileIndex [hdfs://ubuntu:8020/user/oonisim/flight/flightData.csv]\n",
      "ReadSchema: struct<flightId:int,date:string>\n",
      "\n",
      "(2) Project [codegen id : 1]\n",
      "Output [2]: [flightId#174, FLOOR(months_between(cast(cast(gettimestamp(date#177, yyyy-MM-dd, Some(Australia/Sydney), false) as date) as timestamp), cast(Subquery scalar-subquery#895, [id=#1548] as timestamp), true, Some(Australia/Sydney))) AS month_index#896L]\n",
      "Input [2]: [flightId#174, date#177]\n",
      "\n",
      "(3) HashAggregate [codegen id : 1]\n",
      "Input [2]: [flightId#174, month_index#896L]\n",
      "Keys [2]: [flightId#174, month_index#896L]\n",
      "Functions: []\n",
      "Aggregate Attributes: []\n",
      "Results [2]: [flightId#174, month_index#896L]\n",
      "\n",
      "(4) Exchange\n",
      "Input [2]: [flightId#174, month_index#896L]\n",
      "Arguments: hashpartitioning(flightId#174, month_index#896L, 12), ENSURE_REQUIREMENTS, [id=#1568]\n",
      "\n",
      "(5) HashAggregate [codegen id : 2]\n",
      "Input [2]: [flightId#174, month_index#896L]\n",
      "Keys [2]: [flightId#174, month_index#896L]\n",
      "Functions: []\n",
      "Aggregate Attributes: []\n",
      "Results [2]: [flightId#174, month_index#896L]\n",
      "\n",
      "(6) HashAggregate [codegen id : 2]\n",
      "Input [2]: [flightId#174, month_index#896L]\n",
      "Keys [1]: [month_index#896L]\n",
      "Functions [1]: [partial_count(flightId#174)]\n",
      "Aggregate Attributes [1]: [count#903L]\n",
      "Results [2]: [month_index#896L, count#904L]\n",
      "\n",
      "(7) Exchange\n",
      "Input [2]: [month_index#896L, count#904L]\n",
      "Arguments: hashpartitioning(month_index#896L, 12), ENSURE_REQUIREMENTS, [id=#1573]\n",
      "\n",
      "(8) HashAggregate [codegen id : 3]\n",
      "Input [2]: [month_index#896L, count#904L]\n",
      "Keys [1]: [month_index#896L]\n",
      "Functions [1]: [count(flightId#174)]\n",
      "Aggregate Attributes [1]: [count(flightId#174)#899L]\n",
      "Results [3]: [month_index#896L, date_format(cast(add_months(17167, cast(month_index#896L as int)) as timestamp), yyyy-MM, Some(Australia/Sydney)) AS month#893, count(flightId#174)#899L AS number_of_flights#894L]\n",
      "\n",
      "(9) Exchange\n",
      "Input [3]: [month_index#896L, month#893, number_of_flights#894L]\n",
      "Arguments: rangepartitioning(month_index#896L ASC NULLS FIRST, 12), ENSURE_REQUIREMENTS, [id=#1577]\n",
      "\n",
      "(10) Sort [codegen id : 4]\n",
      "Input [3]: [month_index#896L, month#893, number_of_flights#894L]\n",
      "Arguments: [month_index#896L ASC NULLS FIRST], true, 0\n",
      "\n",
      "===== Subqueries =====\n",
      "\n",
      "Subquery:1 Hosting operator id = 2 Hosting Expression = Subquery scalar-subquery#895, [id=#1548]\n",
      "* HashAggregate (15)\n",
      "+- Exchange (14)\n",
      "   +- * HashAggregate (13)\n",
      "      +- * Project (12)\n",
      "         +- Scan csv  (11)\n",
      "\n",
      "\n",
      "(11) Scan csv \n",
      "Output [1]: [date#177]\n",
      "Batched: false\n",
      "Location: InMemoryFileIndex [hdfs://ubuntu:8020/user/oonisim/flight/flightData.csv]\n",
      "ReadSchema: struct<date:string>\n",
      "\n",
      "(12) Project [codegen id : 1]\n",
      "Output [1]: [cast(gettimestamp(date#177, yyyy-MM-dd, Some(Australia/Sydney), false) as date) AS date#183]\n",
      "Input [1]: [date#177]\n",
      "\n",
      "(13) HashAggregate [codegen id : 1]\n",
      "Input [1]: [date#183]\n",
      "Keys: []\n",
      "Functions [1]: [partial_min(date#183)]\n",
      "Aggregate Attributes [1]: [min#905]\n",
      "Results [1]: [min#906]\n",
      "\n",
      "(14) Exchange\n",
      "Input [1]: [min#906]\n",
      "Arguments: SinglePartition, ENSURE_REQUIREMENTS, [id=#1544]\n",
      "\n",
      "(15) HashAggregate [codegen id : 2]\n",
      "Input [1]: [min#906]\n",
      "Keys: []\n",
      "Functions [1]: [min(date#183)]\n",
      "Aggregate Attributes [1]: [min(date#183)#897]\n",
      "Results [1]: [min(date#183)#897 AS min(date)#898]\n",
      "\n",
      "\n",
      "\n"
     ]
    },
    {
     "name": "stderr",
     "output_type": "stream",
     "text": [
      "\r",
      "                                                                                \r"
     ]
    }
   ],
   "source": [
    "query = \"\"\"\n",
    "WITH month_indexed AS (\n",
    "    SELECT DISTINCT\n",
    "        flightId,\n",
    "        FLOOR(months_between(date, (SELECT MIN(date) FROM flight))) AS month_index\n",
    "    FROM\n",
    "        flight\n",
    ")\n",
    "SELECT \n",
    "    month_index,\n",
    "    date_format(\n",
    "        add_months(to_date(\"2017-01-01\", \"yyyy-MM-dd\"), month_index),\n",
    "        \"yyyy-MM\"\n",
    "    ) as month,\n",
    "    count(flightId) as number_of_flights\n",
    "FROM\n",
    "    month_indexed\n",
    "GROUP BY \n",
    "    month_index\n",
    "ORDER BY\n",
    "    month_index\n",
    "\"\"\"\n",
    "spark.sql(query).show()\n",
    "spark.sql(query).explain(mode=\"formatted\")"
   ]
  },
  {
   "cell_type": "markdown",
   "id": "a83cb752",
   "metadata": {},
   "source": [
    "---\n",
    "# Frequent Flyers\n",
    "\n",
    "Find the names of the 10 most frequent flyers."
   ]
  },
  {
   "cell_type": "code",
   "execution_count": 85,
   "id": "553863fb",
   "metadata": {},
   "outputs": [
    {
     "name": "stdout",
     "output_type": "stream",
     "text": [
      "+-----------+-----------------+\n",
      "|passengerId|number_of_flights|\n",
      "+-----------+-----------------+\n",
      "|       2068|               32|\n",
      "|       4827|               27|\n",
      "|       1677|               27|\n",
      "|       3173|               26|\n",
      "|       8961|               26|\n",
      "|       6084|               25|\n",
      "|       5867|               25|\n",
      "|        760|               25|\n",
      "|       5096|               25|\n",
      "|        288|               25|\n",
      "+-----------+-----------------+\n",
      "\n",
      "== Parsed Logical Plan ==\n",
      "'GlobalLimit 10\n",
      "+- 'LocalLimit 10\n",
      "   +- 'Sort ['number_of_flights DESC NULLS LAST], true\n",
      "      +- 'Aggregate ['f.passengerId], ['f.passengerId, 'COUNT(1) AS number_of_flights#1091]\n",
      "         +- 'SubqueryAlias f\n",
      "            +- 'UnresolvedRelation [flight], [], false\n",
      "\n",
      "== Analyzed Logical Plan ==\n",
      "passengerId: int, number_of_flights: bigint\n",
      "GlobalLimit 10\n",
      "+- LocalLimit 10\n",
      "   +- Sort [number_of_flights#1091L DESC NULLS LAST], true\n",
      "      +- Aggregate [passengerId#173], [passengerId#173, count(1) AS number_of_flights#1091L]\n",
      "         +- SubqueryAlias f\n",
      "            +- SubqueryAlias flight\n",
      "               +- Project [passengerId#173, flightId#174, from#175, to#176, to_date('date, Some(yyyy-MM-dd)) AS date#183]\n",
      "                  +- Relation[passengerId#173,flightId#174,from#175,to#176,date#177] csv\n",
      "\n",
      "== Optimized Logical Plan ==\n",
      "GlobalLimit 10\n",
      "+- LocalLimit 10\n",
      "   +- Sort [number_of_flights#1091L DESC NULLS LAST], true\n",
      "      +- Aggregate [passengerId#173], [passengerId#173, count(1) AS number_of_flights#1091L]\n",
      "         +- Project [passengerId#173]\n",
      "            +- Relation[passengerId#173,flightId#174,from#175,to#176,date#177] csv\n",
      "\n",
      "== Physical Plan ==\n",
      "TakeOrderedAndProject(limit=10, orderBy=[number_of_flights#1091L DESC NULLS LAST], output=[passengerId#173,number_of_flights#1091L])\n",
      "+- *(2) HashAggregate(keys=[passengerId#173], functions=[count(1)], output=[passengerId#173, number_of_flights#1091L])\n",
      "   +- Exchange hashpartitioning(passengerId#173, 12), ENSURE_REQUIREMENTS, [id=#1947]\n",
      "      +- *(1) HashAggregate(keys=[passengerId#173], functions=[partial_count(1)], output=[passengerId#173, count#1097L])\n",
      "         +- FileScan csv [passengerId#173] Batched: false, DataFilters: [], Format: CSV, Location: InMemoryFileIndex[hdfs://ubuntu:8020/user/oonisim/flight/flightData.csv], PartitionFilters: [], PushedFilters: [], ReadSchema: struct<passengerId:int>\n",
      "\n"
     ]
    }
   ],
   "source": [
    "query = \"\"\"\n",
    "SELECT\n",
    "    f.passengerId,\n",
    "    COUNT(*) number_of_flights\n",
    "FROM\n",
    "    flight f\n",
    "GROUP BY \n",
    "    f.passengerId\n",
    "ORDER BY\n",
    "    number_of_flights DESC\n",
    "LIMIT 10\n",
    "\"\"\"\n",
    "spark.sql(query).show()\n",
    "spark.sql(query).explain(True)"
   ]
  },
  {
   "cell_type": "markdown",
   "id": "1e67b5f6",
   "metadata": {},
   "source": [
    "---\n",
    "# Longest run"
   ]
  },
  {
   "cell_type": "code",
   "execution_count": null,
   "id": "bf2ec3f5",
   "metadata": {},
   "outputs": [],
   "source": []
  },
  {
   "cell_type": "code",
   "execution_count": null,
   "id": "c02e7709",
   "metadata": {},
   "outputs": [],
   "source": []
  },
  {
   "cell_type": "code",
   "execution_count": null,
   "id": "928a2d0b",
   "metadata": {},
   "outputs": [],
   "source": []
  },
  {
   "cell_type": "code",
   "execution_count": null,
   "id": "e3a2608e",
   "metadata": {},
   "outputs": [],
   "source": []
  },
  {
   "cell_type": "markdown",
   "id": "c1928af9",
   "metadata": {},
   "source": [
    "---\n",
    "# Stop Spark Session"
   ]
  },
  {
   "cell_type": "code",
   "execution_count": 101,
   "id": "a09e1214",
   "metadata": {},
   "outputs": [],
   "source": [
    "spark.stop()"
   ]
  },
  {
   "cell_type": "markdown",
   "id": "afe597fb",
   "metadata": {},
   "source": [
    "\n",
    "\n",
    "# Cleanup"
   ]
  },
  {
   "cell_type": "code",
   "execution_count": 102,
   "id": "71a6106c",
   "metadata": {},
   "outputs": [
    {
     "data": {
      "text/plain": [
       "2109"
      ]
     },
     "execution_count": 102,
     "metadata": {},
     "output_type": "execute_result"
    }
   ],
   "source": [
    "del spark\n",
    "gc.collect()"
   ]
  },
  {
   "cell_type": "code",
   "execution_count": null,
   "id": "d05d5b37",
   "metadata": {},
   "outputs": [],
   "source": []
  }
 ],
 "metadata": {
  "kernelspec": {
   "display_name": "Python 3 (ipykernel)",
   "language": "python",
   "name": "python3"
  },
  "language_info": {
   "codemirror_mode": {
    "name": "ipython",
    "version": 3
   },
   "file_extension": ".py",
   "mimetype": "text/x-python",
   "name": "python",
   "nbconvert_exporter": "python",
   "pygments_lexer": "ipython3",
   "version": "3.8.10"
  }
 },
 "nbformat": 4,
 "nbformat_minor": 5
}
