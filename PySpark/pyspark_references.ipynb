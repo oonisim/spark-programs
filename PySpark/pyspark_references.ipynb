{
 "cells": [
  {
   "cell_type": "markdown",
   "id": "b29b8ecf",
   "metadata": {},
   "source": [
    "\n"
   ]
  },
  {
   "cell_type": "markdown",
   "id": "cbaf5f7f",
   "metadata": {},
   "source": [
    "# Guides\n",
    "\n",
    "* [Spark Configuration](https://spark.apache.org/docs/latest/configuration.html#spark-configuration)\n",
    "* [Running Spark on YARN](https://spark.apache.org/docs/latest/running-on-yarn.html#running-spark-on-yarn)\n",
    "* [Spark SQL/DataFrame Getting Started](https://spark.apache.org/docs/latest/sql-getting-started.html#getting-started)\n",
    "* [SparkSQL Data Sources (CSV/JSON/DB)](https://spark.apache.org/docs/latest/sql-data-sources.html)\n",
    "* [Spark explain plan](https://medium.com/datalex/sparks-logical-and-physical-plans-when-why-how-and-beyond-8cd1947b605a)"
   ]
  },
  {
   "cell_type": "markdown",
   "id": "4361c1dd",
   "metadata": {},
   "source": [
    "# Spark Properties\n",
    "\n",
    "* [Spark Properties](https://spark.apache.org/docs/latest/configuration.html#spark-properties)\n",
    "                     \n",
    "> Spark properties control most application settings and are configured separately for each application. These properties can be set directly on a SparkConf passed to your SparkContext. SparkConf allows you to configure some of the common properties (e.g. master URL and application name), as well as arbitrary key-value pairs through the set() method.\n",
    "\n",
    "* [YARN Spark Properties](https://spark.apache.org/docs/latest/running-on-yarn.html#spark-properties)\n",
    "\n"
   ]
  },
  {
   "cell_type": "markdown",
   "id": "03f60fdd",
   "metadata": {},
   "source": [
    "# Debugging\n",
    "* [Debugging YARN Application](https://spark.apache.org/docs/latest/running-on-yarn.html#debugging-your-application)\n",
    "\n"
   ]
  },
  {
   "cell_type": "code",
   "execution_count": null,
   "id": "ea152e1c",
   "metadata": {},
   "outputs": [],
   "source": []
  }
 ],
 "metadata": {
  "kernelspec": {
   "display_name": "Python 3 (ipykernel)",
   "language": "python",
   "name": "python3"
  },
  "language_info": {
   "codemirror_mode": {
    "name": "ipython",
    "version": 3
   },
   "file_extension": ".py",
   "mimetype": "text/x-python",
   "name": "python",
   "nbconvert_exporter": "python",
   "pygments_lexer": "ipython3",
   "version": "3.8.10"
  }
 },
 "nbformat": 4,
 "nbformat_minor": 5
}
